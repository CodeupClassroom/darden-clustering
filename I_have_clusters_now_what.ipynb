{
 "cells": [
  {
   "cell_type": "markdown",
   "metadata": {},
   "source": [
    "# I have clusters...now what?\n",
    "\n",
    "You have created amazing clusters! Yay! \n",
    "At a minimum, you have a new piece of art. \n",
    "But what do you do now? How does this help you? Well (this answer will you surprise you), it depends. \n",
    "\n",
    "\n",
    "![now_what.jpg](now_what.jpg)\n",
    "\n",
    "__________________________\n",
    "\n",
    "## Overview: what you can do with clusters\n",
    "\n",
    "### Explore your Clusters\n",
    "\n",
    "I cluster multiple variables in order to be able to explore and understand my data better. As an example, in the Zillow dataset:\n",
    "\n",
    "1. Cluster by bedrooms, bathrooms and square feet to understand the different groups of combinations.\n",
    "\n",
    "2. Plot 2 dimensions, such at logerror and lot size, and color by cluster id to see multiple dimensions in a single plot and understand the interaction of all these variables on your target, logerror in this case, a bit better. \n",
    "\n",
    "3. Use the clusters to run an anova to see if there is a significant difference in the log error among these groups. \n",
    "\n",
    "4. If there is a difference, what can we learn? What are the specs of the clusters with significantly higher or lower errors? \n",
    "\n",
    "________________________\n",
    "\n",
    "### Turn your Clusters into Labels\n",
    "\n",
    "I create clusters that I then label so that I can build a model to predict which group an observation belongs in. For example, I want to classify H-E-B customers by types of items they shop for. But I don't know what the distinct groups are yet.\n",
    "\n",
    "1. Cluster based on something like average number of items per store department per visit. \n",
    "\n",
    "2. Review clusters through exploration to create useful labels. \n",
    "\n",
    "3. When you have the clustering model fit, you can run predict on new data to identify which clusters new observations belong in OR, for a longer term solution, 3. Use supervised methods (regression/classification) and a training sample of your dataset (with features) with your target being labeled classes to create a model that predicts those classes.\n",
    "\n",
    "4. After selecting the best model on train, test your model on the out-of-sample data that was already clustered (therefore it has labels) and evaluate. \n",
    "\n",
    "5. Run the model on all data to add labels to all existing data. \n",
    "\n",
    "6. Take some random samples to manually verify and do a little exploration to verify the new labels are doing what you expect. \n",
    "\n",
    "_______________________\n",
    "\n",
    "### Model Each Cluster Separately\n",
    "\n",
    "I have created clusters of customers based on their consumption of hosting products and services. I have seen that the different clusters have different drivers of churn. I would like to build a unique model predicting churn for each cluster created. \n",
    "\n",
    "1. Cluster by services, products and monthly revenue.  \n",
    "\n",
    "2. When you have the clustering model fit, you can run predict on new data to identify which clusters new observations belong in. \n",
    "\n",
    "3. Use supervised methods (regression/classification) and a training sample of your dataset (with features + target variable) for each unique cluster to create a model that predicts your original target variable. \n",
    "\n",
    "_____________________________\n",
    "\n",
    "### Turn your Clusters into Features\n",
    "\n",
    "Use clusters to create new, more descriptive features. Could also reduce number of dimensions. \n",
    "\n",
    "1. Cluster by latitude, longitude and age to get \"area clusters\"\n",
    "\n",
    "2. Cluster by home and lot size to get \"size clusters\"\n",
    "\n",
    "3. Get descriptive stats of the value per sqft\n",
    "\n",
    "4. Use the standard deviation & median of the dollar per square foot for the cluster of the observation as new features (or other stats), or create dummy variables of the clusters. "
   ]
  },
  {
   "cell_type": "markdown",
   "metadata": {},
   "source": [
    "## Acquire\n",
    "\n",
    "We will acquire data from the Zillow database, property information from 2017 sales along with prediction outcomes (logerror) for single unit properties, or those with land use type id of 261. "
   ]
  },
  {
   "cell_type": "code",
   "execution_count": 11,
   "metadata": {},
   "outputs": [],
   "source": [
    "import pandas as pd\n",
    "import env\n",
    "import numpy as np\n",
    "import matplotlib.pyplot as plt\n",
    "import seaborn as sns\n",
    "from sklearn.cluster import KMeans\n",
    "from sklearn.preprocessing import MinMaxScaler\n",
    "from sklearn.model_selection import train_test_split\n",
    "import warnings\n",
    "warnings.filterwarnings('ignore')\n",
    "\n",
    "def get_connection(db, user=env.user, host=env.host, password=env.password):\n",
    "    return f'mysql+pymysql://{user}:{password}@{host}/{db}'\n",
    "\n",
    "\n",
    "def get_zillow_data():\n",
    "    query = '''\n",
    "    select prop.parcelid\n",
    "        , pred.logerror\n",
    "        , bathroomcnt\n",
    "        , bedroomcnt\n",
    "        , calculatedfinishedsquarefeet\n",
    "        , fips\n",
    "        , latitude\n",
    "        , longitude\n",
    "        , lotsizesquarefeet\n",
    "        , regionidcity\n",
    "        , regionidcounty\n",
    "        , regionidzip\n",
    "        , yearbuilt\n",
    "        , structuretaxvaluedollarcnt\n",
    "        , taxvaluedollarcnt\n",
    "        , landtaxvaluedollarcnt\n",
    "        , taxamount\n",
    "    from properties_2017 prop\n",
    "    inner join predictions_2017 pred on prop.parcelid = pred.parcelid\n",
    "    where propertylandusetypeid = 261;\n",
    "    '''\n",
    "    return pd.read_sql(query, get_connection('zillow'))"
   ]
  },
  {
   "cell_type": "code",
   "execution_count": 12,
   "metadata": {},
   "outputs": [
    {
     "name": "stdout",
     "output_type": "stream",
     "text": [
      "<class 'pandas.core.frame.DataFrame'>\n",
      "RangeIndex: 52442 entries, 0 to 52441\n",
      "Data columns (total 17 columns):\n",
      " #   Column                        Non-Null Count  Dtype  \n",
      "---  ------                        --------------  -----  \n",
      " 0   parcelid                      52442 non-null  int64  \n",
      " 1   logerror                      52442 non-null  float64\n",
      " 2   bathroomcnt                   52442 non-null  float64\n",
      " 3   bedroomcnt                    52442 non-null  float64\n",
      " 4   calculatedfinishedsquarefeet  52360 non-null  float64\n",
      " 5   fips                          52442 non-null  float64\n",
      " 6   latitude                      52442 non-null  float64\n",
      " 7   longitude                     52442 non-null  float64\n",
      " 8   lotsizesquarefeet             52073 non-null  float64\n",
      " 9   regionidcity                  51405 non-null  float64\n",
      " 10  regionidcounty                52442 non-null  float64\n",
      " 11  regionidzip                   52416 non-null  float64\n",
      " 12  yearbuilt                     52326 non-null  float64\n",
      " 13  structuretaxvaluedollarcnt    52358 non-null  float64\n",
      " 14  taxvaluedollarcnt             52441 non-null  float64\n",
      " 15  landtaxvaluedollarcnt         52441 non-null  float64\n",
      " 16  taxamount                     52438 non-null  float64\n",
      "dtypes: float64(16), int64(1)\n",
      "memory usage: 6.8 MB\n"
     ]
    }
   ],
   "source": [
    "df = get_zillow_data()\n",
    "df.info()"
   ]
  },
  {
   "cell_type": "markdown",
   "metadata": {},
   "source": [
    "## Clean & Prep\n",
    "\n",
    "1. Drop missing values: It is < 1500 observations out of 54,000, so there are plenty of observations to work with even when we drop all observations with missing values. \n",
    "\n",
    "2. Get county names and create dummy variables with those. \n",
    "\n",
    "3. Compute new features out of existing features in order to reduce noise, capture signals, and reduce collinearity, or dependence between independent variables. \n",
    "\n",
    "4. Remove outliers - we can study those separately at a later time. \n",
    "\n",
    "5. Reduce features. \n",
    "\n",
    "**Drop Observations with Missing Values**"
   ]
  },
  {
   "cell_type": "code",
   "execution_count": 13,
   "metadata": {},
   "outputs": [],
   "source": [
    "# df.isnull().sum()\n",
    "df.dropna(inplace=True)"
   ]
  },
  {
   "cell_type": "markdown",
   "metadata": {},
   "source": [
    "**Get Counties**\n",
    "\n",
    "Replace fips/county with the county name and create dummy vars for county, or split into 3 different dataframes. \n",
    "\n",
    "- 6037: Los Angeles County\n",
    "\n",
    "- 6059: Orange County\n",
    "\n",
    "- 6111: Ventura County\n",
    "\n",
    "https://www.nrcs.usda.gov/wps/portal/nrcs/detail/?cid=nrcs143_013697"
   ]
  },
  {
   "cell_type": "code",
   "execution_count": 14,
   "metadata": {},
   "outputs": [],
   "source": [
    "county_df = pd.get_dummies(df.fips)\n",
    "county_df.head(1)\n",
    "# rename columns by the county name\n",
    "county_df.columns = ['LA', 'Orange', 'Ventura']\n",
    "county_df.head(1)\n",
    "df = pd.concat([df, county_df], axis=1)\n",
    "df.head(1)\n",
    "df.drop(columns=['fips'], inplace=True)"
   ]
  },
  {
   "cell_type": "code",
   "execution_count": null,
   "metadata": {},
   "outputs": [],
   "source": [
    "def get_counties():\n",
    "    # create dummy vars of fips id\n",
    "    county_df = pd.get_dummies(df.fips)\n",
    "    # rename columns by actual county name\n",
    "    county_df.columns = ['LA', 'Orange', 'Ventura']\n",
    "    # concatenate the dataframe with the 3 county columns to the original dataframe\n",
    "    df_dummies = pd.concat([df, county_df], axis = 1)\n",
    "    # drop regionidcounty and fips columns\n",
    "    df_dummies = df_dummies.drop(columns = ['regionidcounty', 'fips'])\n",
    "    return df_dummies"
   ]
  },
  {
   "cell_type": "markdown",
   "metadata": {},
   "source": [
    "**Create New Features**\n",
    "\n",
    "- **age**: 2017 - year built.\n",
    "\n",
    "- **tax_rate**: taxamount/taxvaluedollarcnt fields (total, land & structure). We can then remove taxamount and taxvaluedollarcnt, and will keep taxrate, structuretaxvaluedollarcnt, and landtaxvalue. \n",
    "\n",
    "- **acres**: lotsizesquarefeet/43560\n",
    "\n",
    "- **structure_dollar_per_sqft**: structure tax value/finished square feet\n",
    "\n",
    "- **land_dollar_per_sqft**: land tax value/lot size square feet\n",
    "\n",
    "- **bed_bath_ratio**: bedroomcnt/bathroomcnt\n",
    "\n",
    "- **cola**: city of LA, LA has the largest number of records (across single cities) with a very wide range in values, so we I am creating a boolean feature for city of LA. That will help the model for LA county. "
   ]
  },
  {
   "cell_type": "code",
   "execution_count": 15,
   "metadata": {},
   "outputs": [],
   "source": [
    "def create_features(df):\n",
    "    df['age'] = 2017 - df.yearbuilt\n",
    "\n",
    "    # create taxrate variable\n",
    "    df['taxrate'] = df.taxamount/df.taxvaluedollarcnt\n",
    "    \n",
    "    # create acres variable\n",
    "    df['acres'] = df.lotsizesquarefeet/43560\n",
    "    \n",
    "    # dollar per square foot-structure\n",
    "    df['structure_dollar_per_sqft'] = df.structuretaxvaluedollarcnt/df.calculatedfinishedsquarefeet\n",
    "\n",
    "    # dollar per square foot-land\n",
    "    df['land_dollar_per_sqft'] = df.landtaxvaluedollarcnt/df.lotsizesquarefeet\n",
    "    \n",
    "    # ratio of beds to baths\n",
    "    df['bed_bath_ratio'] = df.bedroomcnt/df.bathroomcnt\n",
    "    \n",
    "    # 12447 is the ID for city of LA. \n",
    "    # I confirmed through sampling and plotting, as well as looking up a few addresses.\n",
    "    df['cola'] = df['regionidcity'].apply(lambda x: 1 if x == 12447.0 else 0)\n",
    "    \n",
    "    return df"
   ]
  },
  {
   "cell_type": "code",
   "execution_count": 16,
   "metadata": {},
   "outputs": [
    {
     "data": {
      "text/html": [
       "<div>\n",
       "<style scoped>\n",
       "    .dataframe tbody tr th:only-of-type {\n",
       "        vertical-align: middle;\n",
       "    }\n",
       "\n",
       "    .dataframe tbody tr th {\n",
       "        vertical-align: top;\n",
       "    }\n",
       "\n",
       "    .dataframe thead th {\n",
       "        text-align: right;\n",
       "    }\n",
       "</style>\n",
       "<table border=\"1\" class=\"dataframe\">\n",
       "  <thead>\n",
       "    <tr style=\"text-align: right;\">\n",
       "      <th></th>\n",
       "      <th>parcelid</th>\n",
       "      <th>logerror</th>\n",
       "      <th>bathroomcnt</th>\n",
       "      <th>bedroomcnt</th>\n",
       "      <th>calculatedfinishedsquarefeet</th>\n",
       "      <th>latitude</th>\n",
       "      <th>longitude</th>\n",
       "      <th>lotsizesquarefeet</th>\n",
       "      <th>regionidcity</th>\n",
       "      <th>regionidcounty</th>\n",
       "      <th>...</th>\n",
       "      <th>LA</th>\n",
       "      <th>Orange</th>\n",
       "      <th>Ventura</th>\n",
       "      <th>age</th>\n",
       "      <th>taxrate</th>\n",
       "      <th>acres</th>\n",
       "      <th>structure_dollar_per_sqft</th>\n",
       "      <th>land_dollar_per_sqft</th>\n",
       "      <th>bed_bath_ratio</th>\n",
       "      <th>cola</th>\n",
       "    </tr>\n",
       "  </thead>\n",
       "  <tbody>\n",
       "    <tr>\n",
       "      <th>0</th>\n",
       "      <td>14297519</td>\n",
       "      <td>0.025595</td>\n",
       "      <td>3.5</td>\n",
       "      <td>4.0</td>\n",
       "      <td>3100.0</td>\n",
       "      <td>33634931.0</td>\n",
       "      <td>-117869207.0</td>\n",
       "      <td>4506.0</td>\n",
       "      <td>53571.0</td>\n",
       "      <td>1286.0</td>\n",
       "      <td>...</td>\n",
       "      <td>0</td>\n",
       "      <td>1</td>\n",
       "      <td>0</td>\n",
       "      <td>19.0</td>\n",
       "      <td>0.010763</td>\n",
       "      <td>0.103444</td>\n",
       "      <td>156.681613</td>\n",
       "      <td>119.30071</td>\n",
       "      <td>1.142857</td>\n",
       "      <td>0</td>\n",
       "    </tr>\n",
       "  </tbody>\n",
       "</table>\n",
       "<p>1 rows × 26 columns</p>\n",
       "</div>"
      ],
      "text/plain": [
       "   parcelid  logerror  bathroomcnt  bedroomcnt  calculatedfinishedsquarefeet  \\\n",
       "0  14297519  0.025595          3.5         4.0                        3100.0   \n",
       "\n",
       "     latitude    longitude  lotsizesquarefeet  regionidcity  regionidcounty  \\\n",
       "0  33634931.0 -117869207.0             4506.0       53571.0          1286.0   \n",
       "\n",
       "   ...  LA  Orange  Ventura   age   taxrate     acres  \\\n",
       "0  ...   0       1        0  19.0  0.010763  0.103444   \n",
       "\n",
       "   structure_dollar_per_sqft  land_dollar_per_sqft  bed_bath_ratio  cola  \n",
       "0                 156.681613             119.30071        1.142857     0  \n",
       "\n",
       "[1 rows x 26 columns]"
      ]
     },
     "execution_count": 16,
     "metadata": {},
     "output_type": "execute_result"
    }
   ],
   "source": [
    "df = create_features(df)\n",
    "df.head(1)"
   ]
  },
  {
   "cell_type": "markdown",
   "metadata": {},
   "source": [
    "**Remove Outliers**\n",
    "\n",
    "1. Remove extremes in bedrooms and baths, we will keeps homes with between 1 and 7 baths, between 0 and 7 bedrooms   \n",
    "\n",
    "2. There is an error in zip, so we will remove those whose zips are invalid numbers (> 99999).   \n",
    "\n",
    "3. remove square feet > 7000 for now\n",
    "\n",
    "4. remove lot size (acres) > 10 for now\n",
    "\n",
    "5. What is this tax rate of almost 50%?? Remove tax rate > 5% for now. "
   ]
  },
  {
   "cell_type": "code",
   "execution_count": 17,
   "metadata": {},
   "outputs": [],
   "source": [
    "def remove_outliers():\n",
    "    '''\n",
    "    remove outliers in bed, bath, zip, square feet, acres & tax rate\n",
    "    '''\n",
    "\n",
    "    return df[((df.bathroomcnt <= 7) & (df.bedroomcnt <= 7) & \n",
    "               (df.regionidzip < 100000) & \n",
    "               (df.bathroomcnt > 0) & \n",
    "               (df.bedroomcnt > 0) & \n",
    "               (df.acres < 10) &\n",
    "               (df.calculatedfinishedsquarefeet < 7000) & \n",
    "               (df.taxrate < .05)\n",
    "              )]"
   ]
  },
  {
   "cell_type": "code",
   "execution_count": 18,
   "metadata": {},
   "outputs": [],
   "source": [
    "df = remove_outliers()"
   ]
  },
  {
   "cell_type": "code",
   "execution_count": 19,
   "metadata": {},
   "outputs": [
    {
     "name": "stdout",
     "output_type": "stream",
     "text": [
      "<class 'pandas.core.frame.DataFrame'>\n",
      "Int64Index: 50496 entries, 0 to 52441\n",
      "Data columns (total 26 columns):\n",
      " #   Column                        Non-Null Count  Dtype  \n",
      "---  ------                        --------------  -----  \n",
      " 0   parcelid                      50496 non-null  int64  \n",
      " 1   logerror                      50496 non-null  float64\n",
      " 2   bathroomcnt                   50496 non-null  float64\n",
      " 3   bedroomcnt                    50496 non-null  float64\n",
      " 4   calculatedfinishedsquarefeet  50496 non-null  float64\n",
      " 5   latitude                      50496 non-null  float64\n",
      " 6   longitude                     50496 non-null  float64\n",
      " 7   lotsizesquarefeet             50496 non-null  float64\n",
      " 8   regionidcity                  50496 non-null  float64\n",
      " 9   regionidcounty                50496 non-null  float64\n",
      " 10  regionidzip                   50496 non-null  float64\n",
      " 11  yearbuilt                     50496 non-null  float64\n",
      " 12  structuretaxvaluedollarcnt    50496 non-null  float64\n",
      " 13  taxvaluedollarcnt             50496 non-null  float64\n",
      " 14  landtaxvaluedollarcnt         50496 non-null  float64\n",
      " 15  taxamount                     50496 non-null  float64\n",
      " 16  LA                            50496 non-null  uint8  \n",
      " 17  Orange                        50496 non-null  uint8  \n",
      " 18  Ventura                       50496 non-null  uint8  \n",
      " 19  age                           50496 non-null  float64\n",
      " 20  taxrate                       50496 non-null  float64\n",
      " 21  acres                         50496 non-null  float64\n",
      " 22  structure_dollar_per_sqft     50496 non-null  float64\n",
      " 23  land_dollar_per_sqft          50496 non-null  float64\n",
      " 24  bed_bath_ratio                50496 non-null  float64\n",
      " 25  cola                          50496 non-null  int64  \n",
      "dtypes: float64(21), int64(2), uint8(3)\n",
      "memory usage: 9.4 MB\n"
     ]
    }
   ],
   "source": [
    "df.info()"
   ]
  },
  {
   "cell_type": "markdown",
   "metadata": {},
   "source": [
    "**Drop Columns**\n"
   ]
  },
  {
   "cell_type": "markdown",
   "metadata": {},
   "source": [
    "For now, I will focus on the most difficult and diverse county, LA county. I'll add the others in after I see what I can find. \n",
    "\n",
    "I'm not sure where I will use bins and where I will use actual values, so for now I think i'll go with bins and see what happens. \n",
    "\n",
    "I will remove the following variables: \n",
    "\n",
    "- parcelid: can tie back to parcels later\n",
    "\n",
    "- bedroomcnt: info captured in bed_bath_ratio + bathroomcnt\n",
    "\n",
    "- taxamount, taxvaluedollarcnt, structuretaxvaluedollarcnt, landtaxvaluedollarcnt: info captured in tax_bin + structure_dollar_per_sqft + land_dollar_per_sqft + acres + calculatedfinishedsquarefeet\n",
    "\n",
    "- yearbuilt: info captured in age\n",
    "\n",
    "- lotsizesquarefeet: info captured in acres\n",
    "\n",
    "- regionidcity: using boolean of whether in city of LA or not\n",
    "\n",
    "- regionidzip: not using at this time\n",
    "\n",
    "- LA, Orange, Ventura: will look at LA county only right now. "
   ]
  },
  {
   "cell_type": "code",
   "execution_count": 20,
   "metadata": {},
   "outputs": [
    {
     "name": "stdout",
     "output_type": "stream",
     "text": [
      "(32534, 13)\n"
     ]
    }
   ],
   "source": [
    "cols_to_drop = ['parcelid', 'bedroomcnt', 'taxamount', \n",
    "               'taxvaluedollarcnt', 'structuretaxvaluedollarcnt',\n",
    "               'landtaxvaluedollarcnt', 'yearbuilt', \n",
    "               'lotsizesquarefeet', 'regionidcounty',\n",
    "                'regionidcity', 'regionidzip',\n",
    "               'LA', 'Orange', 'Ventura']\n",
    "\n",
    "df_la = df[df.LA==1].drop(columns = cols_to_drop)\n",
    "\n",
    "print(df_la.shape)"
   ]
  },
  {
   "cell_type": "markdown",
   "metadata": {},
   "source": [
    "**Split into train, validate & test**"
   ]
  },
  {
   "cell_type": "code",
   "execution_count": 26,
   "metadata": {},
   "outputs": [],
   "source": [
    "def split(df, target_var):\n",
    "    # split df into train_validate (80%) and test (20%)\n",
    "    train_validate, test = train_test_split(df, test_size=.20, random_state=13)\n",
    "    # split train_validate into train(70% of 80% = 56%) and validate (30% of 80% = 24%)\n",
    "    train, validate = train_test_split(train_validate, test_size=.3, random_state=13)\n",
    "    \n",
    "    # create X_train by dropping the target variable \n",
    "    X_train = train.drop(columns=[target_var])\n",
    "    # create y_train by keeping only the target variable.\n",
    "    y_train = train[[target_var]]\n",
    "\n",
    "    # create X_validate by dropping the target variable \n",
    "    X_validate = validate.drop(columns=[target_var])\n",
    "    # create y_validate by keeping only the target variable.\n",
    "    y_validate = validate[[target_var]]\n",
    "\n",
    "    # create X_test by dropping the target variable \n",
    "    X_test = test.drop(columns=[target_var])\n",
    "    # create y_test by keeping only the target variable.\n",
    "    y_test = test[[target_var]]\n",
    "    \n",
    "    return X_train, y_train, X_validate, y_validate, X_test, y_test"
   ]
  },
  {
   "cell_type": "code",
   "execution_count": 27,
   "metadata": {},
   "outputs": [],
   "source": [
    "X_train, y_train, \\\n",
    "    X_validate, y_validate, \\\n",
    "    X_test, y_test = split(df_la, 'logerror')"
   ]
  },
  {
   "cell_type": "code",
   "execution_count": 28,
   "metadata": {},
   "outputs": [
    {
     "data": {
      "text/html": [
       "<div>\n",
       "<style scoped>\n",
       "    .dataframe tbody tr th:only-of-type {\n",
       "        vertical-align: middle;\n",
       "    }\n",
       "\n",
       "    .dataframe tbody tr th {\n",
       "        vertical-align: top;\n",
       "    }\n",
       "\n",
       "    .dataframe thead th {\n",
       "        text-align: right;\n",
       "    }\n",
       "</style>\n",
       "<table border=\"1\" class=\"dataframe\">\n",
       "  <thead>\n",
       "    <tr style=\"text-align: right;\">\n",
       "      <th></th>\n",
       "      <th>bathroomcnt</th>\n",
       "      <th>calculatedfinishedsquarefeet</th>\n",
       "      <th>latitude</th>\n",
       "      <th>longitude</th>\n",
       "      <th>age</th>\n",
       "      <th>taxrate</th>\n",
       "      <th>acres</th>\n",
       "      <th>structure_dollar_per_sqft</th>\n",
       "      <th>land_dollar_per_sqft</th>\n",
       "      <th>bed_bath_ratio</th>\n",
       "      <th>cola</th>\n",
       "    </tr>\n",
       "  </thead>\n",
       "  <tbody>\n",
       "    <tr>\n",
       "      <th>count</th>\n",
       "      <td>18218.000000</td>\n",
       "      <td>18218.000000</td>\n",
       "      <td>1.821800e+04</td>\n",
       "      <td>1.821800e+04</td>\n",
       "      <td>18218.000000</td>\n",
       "      <td>18218.000000</td>\n",
       "      <td>18218.000000</td>\n",
       "      <td>18218.000000</td>\n",
       "      <td>18218.000000</td>\n",
       "      <td>18218.000000</td>\n",
       "      <td>18218.000000</td>\n",
       "    </tr>\n",
       "    <tr>\n",
       "      <th>mean</th>\n",
       "      <td>2.155945</td>\n",
       "      <td>1774.456966</td>\n",
       "      <td>3.411759e+07</td>\n",
       "      <td>-1.182393e+08</td>\n",
       "      <td>60.556208</td>\n",
       "      <td>0.013849</td>\n",
       "      <td>0.225014</td>\n",
       "      <td>89.380706</td>\n",
       "      <td>40.272848</td>\n",
       "      <td>1.663691</td>\n",
       "      <td>0.344440</td>\n",
       "    </tr>\n",
       "    <tr>\n",
       "      <th>std</th>\n",
       "      <td>0.975969</td>\n",
       "      <td>853.950683</td>\n",
       "      <td>2.300156e+05</td>\n",
       "      <td>2.172590e+05</td>\n",
       "      <td>22.142838</td>\n",
       "      <td>0.003245</td>\n",
       "      <td>0.343860</td>\n",
       "      <td>62.297187</td>\n",
       "      <td>64.015609</td>\n",
       "      <td>0.614714</td>\n",
       "      <td>0.475198</td>\n",
       "    </tr>\n",
       "    <tr>\n",
       "      <th>min</th>\n",
       "      <td>1.000000</td>\n",
       "      <td>152.000000</td>\n",
       "      <td>3.334085e+07</td>\n",
       "      <td>-1.188951e+08</td>\n",
       "      <td>1.000000</td>\n",
       "      <td>0.000792</td>\n",
       "      <td>0.020868</td>\n",
       "      <td>0.158281</td>\n",
       "      <td>0.065394</td>\n",
       "      <td>0.333333</td>\n",
       "      <td>0.000000</td>\n",
       "    </tr>\n",
       "    <tr>\n",
       "      <th>25%</th>\n",
       "      <td>2.000000</td>\n",
       "      <td>1200.000000</td>\n",
       "      <td>3.395767e+07</td>\n",
       "      <td>-1.184007e+08</td>\n",
       "      <td>51.000000</td>\n",
       "      <td>0.012136</td>\n",
       "      <td>0.131451</td>\n",
       "      <td>52.845318</td>\n",
       "      <td>6.691413</td>\n",
       "      <td>1.333333</td>\n",
       "      <td>0.000000</td>\n",
       "    </tr>\n",
       "    <tr>\n",
       "      <th>50%</th>\n",
       "      <td>2.000000</td>\n",
       "      <td>1548.000000</td>\n",
       "      <td>3.409084e+07</td>\n",
       "      <td>-1.182415e+08</td>\n",
       "      <td>63.000000</td>\n",
       "      <td>0.012649</td>\n",
       "      <td>0.158735</td>\n",
       "      <td>81.185516</td>\n",
       "      <td>24.783699</td>\n",
       "      <td>1.500000</td>\n",
       "      <td>0.000000</td>\n",
       "    </tr>\n",
       "    <tr>\n",
       "      <th>75%</th>\n",
       "      <td>3.000000</td>\n",
       "      <td>2112.000000</td>\n",
       "      <td>3.420324e+07</td>\n",
       "      <td>-1.180963e+08</td>\n",
       "      <td>71.000000</td>\n",
       "      <td>0.014288</td>\n",
       "      <td>0.204316</td>\n",
       "      <td>109.709227</td>\n",
       "      <td>50.210471</td>\n",
       "      <td>2.000000</td>\n",
       "      <td>1.000000</td>\n",
       "    </tr>\n",
       "    <tr>\n",
       "      <th>max</th>\n",
       "      <td>7.000000</td>\n",
       "      <td>6992.000000</td>\n",
       "      <td>3.481877e+07</td>\n",
       "      <td>-1.176713e+08</td>\n",
       "      <td>139.000000</td>\n",
       "      <td>0.049608</td>\n",
       "      <td>9.975872</td>\n",
       "      <td>1444.221106</td>\n",
       "      <td>1649.149966</td>\n",
       "      <td>5.000000</td>\n",
       "      <td>1.000000</td>\n",
       "    </tr>\n",
       "  </tbody>\n",
       "</table>\n",
       "</div>"
      ],
      "text/plain": [
       "        bathroomcnt  calculatedfinishedsquarefeet      latitude     longitude  \\\n",
       "count  18218.000000                  18218.000000  1.821800e+04  1.821800e+04   \n",
       "mean       2.155945                   1774.456966  3.411759e+07 -1.182393e+08   \n",
       "std        0.975969                    853.950683  2.300156e+05  2.172590e+05   \n",
       "min        1.000000                    152.000000  3.334085e+07 -1.188951e+08   \n",
       "25%        2.000000                   1200.000000  3.395767e+07 -1.184007e+08   \n",
       "50%        2.000000                   1548.000000  3.409084e+07 -1.182415e+08   \n",
       "75%        3.000000                   2112.000000  3.420324e+07 -1.180963e+08   \n",
       "max        7.000000                   6992.000000  3.481877e+07 -1.176713e+08   \n",
       "\n",
       "                age       taxrate         acres  structure_dollar_per_sqft  \\\n",
       "count  18218.000000  18218.000000  18218.000000               18218.000000   \n",
       "mean      60.556208      0.013849      0.225014                  89.380706   \n",
       "std       22.142838      0.003245      0.343860                  62.297187   \n",
       "min        1.000000      0.000792      0.020868                   0.158281   \n",
       "25%       51.000000      0.012136      0.131451                  52.845318   \n",
       "50%       63.000000      0.012649      0.158735                  81.185516   \n",
       "75%       71.000000      0.014288      0.204316                 109.709227   \n",
       "max      139.000000      0.049608      9.975872                1444.221106   \n",
       "\n",
       "       land_dollar_per_sqft  bed_bath_ratio          cola  \n",
       "count          18218.000000    18218.000000  18218.000000  \n",
       "mean              40.272848        1.663691      0.344440  \n",
       "std               64.015609        0.614714      0.475198  \n",
       "min                0.065394        0.333333      0.000000  \n",
       "25%                6.691413        1.333333      0.000000  \n",
       "50%               24.783699        1.500000      0.000000  \n",
       "75%               50.210471        2.000000      1.000000  \n",
       "max             1649.149966        5.000000      1.000000  "
      ]
     },
     "execution_count": 28,
     "metadata": {},
     "output_type": "execute_result"
    }
   ],
   "source": [
    "X_train.describe()"
   ]
  },
  {
   "cell_type": "code",
   "execution_count": null,
   "metadata": {},
   "outputs": [],
   "source": []
  },
  {
   "cell_type": "markdown",
   "metadata": {},
   "source": [
    "**Scale**\n",
    "\n",
    "I will scale all of our features using min-max scaler. "
   ]
  },
  {
   "cell_type": "markdown",
   "metadata": {},
   "source": [
    "(value-min)/(max - min)\n",
    "\n",
    "(7 - 1)/(7 - 1) = 1\n",
    "(1 - 1)/(7 - 1) = 0"
   ]
  },
  {
   "cell_type": "code",
   "execution_count": 30,
   "metadata": {},
   "outputs": [],
   "source": [
    "def scale_min_max():\n",
    "    # create the scaler object and fit to X_train (get the min and max from X_train for each column)\n",
    "    scaler = MinMaxScaler(copy=True, feature_range=(0,1)).fit(X_train)\n",
    "\n",
    "    # transform X_train values to their scaled equivalent and create df of the scaled features\n",
    "    X_train_scaled = pd.DataFrame(scaler.transform(X_train), \n",
    "                                  columns=X_train.columns.values).set_index([X_train.index.values])\n",
    "    \n",
    "    # transform X_validate values to their scaled equivalent and create df of the scaled features\n",
    "    X_validate_scaled = pd.DataFrame(scaler.transform(X_validate),\n",
    "                                    columns=X_validate.columns.values).set_index([X_validate.index.values])\n",
    "\n",
    "    # transform X_test values to their scaled equivalent and create df of the scaled features   \n",
    "    X_test_scaled = pd.DataFrame(scaler.transform(X_test), \n",
    "                                 columns=X_test.columns.values).set_index([X_test.index.values])\n",
    "    \n",
    "    return X_train_scaled, X_validate_scaled, X_test_scaled"
   ]
  },
  {
   "cell_type": "code",
   "execution_count": 31,
   "metadata": {},
   "outputs": [],
   "source": [
    "X_train_scaled, X_validate_scaled, X_test_scaled = scale_min_max()"
   ]
  },
  {
   "cell_type": "markdown",
   "metadata": {},
   "source": [
    "**Brainstorming**\n",
    "\n",
    "As I think about where it's difficult to predict housing prices, I think about areas where price and condition of homes vary drastically. This is generally in areas with older homes. So, how can we increase the information we have about those areas so that estimating the condition, and therefore the price, can be more accurate? There are so many ways to go about this, and who knows what will work best until we start trying them out. One idea I had was figure out a way to identify neighborhoods that are similar. Neighborhoods, in terms of the data available through the field `regionidneighborhood`, have many problems. The primary challenge is that so much of the data is missing. Secondly, there are many areas without defined neighborhoods. And the final point I'll mention (though there are more), is that there are so many neighborhoods that I wouldn't have to computing power to model each neighborhood separately! There is a way to do this, I'm sure, but that is going to wait until an iteration much in the future, and when it's possible to find the missing neighborhoods. \n",
    "\n",
    "So, all of that said, I want to find a way to cluster properties at a higher level than neighborhood and zip code in some cases, and can span both geographic areas. \n",
    "\n",
    "What if we could predict the error using the variance or standard deviation of the property assessed values of similar neighborhoods? Large standard deviation leads to larger errors. \n",
    "If we cluster by latitude, longitude and age maybe we can get city segments that were developed closer in time to one another, at a level higher than zip code and neighborhood. And maybe it will help separate terrain a bit, like coast vs mountains. We can then get basic statistics of dollar/sqft and lot/sqft of those areas and use those statistics as features. So we will use the clusters to extract statistics that describe them, and use those stats as features. \n",
    "\n",
    "I could also try clustering sizes. Acres, square feet, and location, e.g."
   ]
  },
  {
   "cell_type": "markdown",
   "metadata": {},
   "source": [
    "Cluster with a focus on areas: using latitude, longitude and age. "
   ]
  },
  {
   "cell_type": "code",
   "execution_count": 53,
   "metadata": {},
   "outputs": [],
   "source": [
    "area_vars = ['latitude', 'longitude', 'age']\n",
    "\n",
    "def elbow_plot(cluster_vars):\n",
    "    # elbow method to identify good k for us\n",
    "    ks = range(2,20)\n",
    "    \n",
    "    # empty list to hold inertia (sum of squares)\n",
    "    sse = []\n",
    "\n",
    "    # loop through each k, fit kmeans, get inertia\n",
    "    for k in ks:\n",
    "        kmeans = KMeans(n_clusters=k)\n",
    "        kmeans.fit(X_train_scaled[cluster_vars])\n",
    "        # inertia\n",
    "        sse.append(kmeans.inertia_)\n",
    "\n",
    "    print(pd.DataFrame(dict(k=ks, sse=sse)))\n",
    "\n",
    "    # plot k with inertia\n",
    "    plt.plot(ks, sse, 'bx-')\n",
    "    plt.xlabel('k')\n",
    "    plt.ylabel('SSE')\n",
    "    plt.title('Elbow method to find optimal k')\n",
    "    plt.show()"
   ]
  },
  {
   "cell_type": "code",
   "execution_count": 52,
   "metadata": {},
   "outputs": [
    {
     "name": "stdout",
     "output_type": "stream",
     "text": [
      "     k         sse\n",
      "0    2  997.424027\n",
      "1    3  695.357521\n",
      "2    4  506.045600\n",
      "3    5  417.605904\n",
      "4    6  353.761834\n",
      "5    7  311.248622\n",
      "6    8  281.692831\n",
      "7    9  259.598685\n",
      "8   10  238.329643\n",
      "9   11  219.557099\n",
      "10  12  200.227234\n",
      "11  13  189.609879\n",
      "12  14  178.657781\n",
      "13  15  170.580997\n",
      "14  16  163.100483\n",
      "15  17  155.376478\n",
      "16  18  148.983154\n",
      "17  19  143.457748\n"
     ]
    },
    {
     "data": {
      "image/png": "[encoded data removed]",
      "text/plain": [
       "<Figure size 432x288 with 1 Axes>"
      ]
     },
     "metadata": {
      "needs_background": "light"
     },
     "output_type": "display_data"
    }
   ],
   "source": [
    "elbow_plot(cluster_vars = area_vars)"
   ]
  },
  {
   "cell_type": "markdown",
   "metadata": {},
   "source": [
    "So let's create our clusters. "
   ]
  },
  {
   "cell_type": "code",
   "execution_count": 56,
   "metadata": {},
   "outputs": [],
   "source": [
    "k = 6\n",
    "\n",
    "def run_kmeans(k, cluster_vars, cluster_col_name):\n",
    "    # create kmeans object\n",
    "    kmeans = KMeans(n_clusters = k, random_state = 13)\n",
    "    kmeans.fit(X_train_scaled[cluster_vars])\n",
    "    # predict and create a dataframe with cluster per observation\n",
    "    train_clusters = \\\n",
    "        pd.DataFrame(kmeans.predict(X_train_scaled[cluster_vars]),\n",
    "                              columns=[cluster_col_name],\n",
    "                              index=X_train.index)\n",
    "    \n",
    "    return train_clusters, kmeans"
   ]
  },
  {
   "cell_type": "code",
   "execution_count": 58,
   "metadata": {},
   "outputs": [],
   "source": [
    "train_clusters, kmeans = run_kmeans(k=6, \n",
    "                                    cluster_vars = ['latitude', \n",
    "                                                    'longitude', \n",
    "                                                    'age'], \n",
    "                                    cluster_col_name = 'area_cluster')"
   ]
  },
  {
   "cell_type": "code",
   "execution_count": 41,
   "metadata": {},
   "outputs": [
    {
     "data": {
      "text/html": [
       "<div>\n",
       "<style scoped>\n",
       "    .dataframe tbody tr th:only-of-type {\n",
       "        vertical-align: middle;\n",
       "    }\n",
       "\n",
       "    .dataframe tbody tr th {\n",
       "        vertical-align: top;\n",
       "    }\n",
       "\n",
       "    .dataframe thead th {\n",
       "        text-align: right;\n",
       "    }\n",
       "</style>\n",
       "<table border=\"1\" class=\"dataframe\">\n",
       "  <thead>\n",
       "    <tr style=\"text-align: right;\">\n",
       "      <th></th>\n",
       "      <th>bathroomcnt</th>\n",
       "      <th>calculatedfinishedsquarefeet</th>\n",
       "      <th>latitude</th>\n",
       "      <th>longitude</th>\n",
       "      <th>age</th>\n",
       "      <th>taxrate</th>\n",
       "      <th>acres</th>\n",
       "      <th>structure_dollar_per_sqft</th>\n",
       "      <th>land_dollar_per_sqft</th>\n",
       "      <th>bed_bath_ratio</th>\n",
       "      <th>cola</th>\n",
       "    </tr>\n",
       "  </thead>\n",
       "  <tbody>\n",
       "    <tr>\n",
       "      <th>36898</th>\n",
       "      <td>0.000000</td>\n",
       "      <td>0.174269</td>\n",
       "      <td>0.554034</td>\n",
       "      <td>0.508691</td>\n",
       "      <td>0.644928</td>\n",
       "      <td>0.206452</td>\n",
       "      <td>0.011623</td>\n",
       "      <td>0.067903</td>\n",
       "      <td>0.053373</td>\n",
       "      <td>0.571429</td>\n",
       "      <td>0.0</td>\n",
       "    </tr>\n",
       "    <tr>\n",
       "      <th>35746</th>\n",
       "      <td>0.166667</td>\n",
       "      <td>0.421637</td>\n",
       "      <td>0.500068</td>\n",
       "      <td>0.328335</td>\n",
       "      <td>0.355072</td>\n",
       "      <td>0.230711</td>\n",
       "      <td>0.030375</td>\n",
       "      <td>0.240860</td>\n",
       "      <td>0.057033</td>\n",
       "      <td>0.250000</td>\n",
       "      <td>1.0</td>\n",
       "    </tr>\n",
       "    <tr>\n",
       "      <th>35707</th>\n",
       "      <td>0.166667</td>\n",
       "      <td>0.244298</td>\n",
       "      <td>0.904261</td>\n",
       "      <td>0.571006</td>\n",
       "      <td>0.202899</td>\n",
       "      <td>0.297525</td>\n",
       "      <td>0.017466</td>\n",
       "      <td>0.071208</td>\n",
       "      <td>0.002917</td>\n",
       "      <td>0.250000</td>\n",
       "      <td>0.0</td>\n",
       "    </tr>\n",
       "    <tr>\n",
       "      <th>20205</th>\n",
       "      <td>0.500000</td>\n",
       "      <td>0.473830</td>\n",
       "      <td>0.723965</td>\n",
       "      <td>0.267130</td>\n",
       "      <td>0.115942</td>\n",
       "      <td>0.250070</td>\n",
       "      <td>0.013138</td>\n",
       "      <td>0.126042</td>\n",
       "      <td>0.016270</td>\n",
       "      <td>0.089286</td>\n",
       "      <td>0.0</td>\n",
       "    </tr>\n",
       "    <tr>\n",
       "      <th>34665</th>\n",
       "      <td>0.333333</td>\n",
       "      <td>0.276462</td>\n",
       "      <td>0.917059</td>\n",
       "      <td>0.643943</td>\n",
       "      <td>0.333333</td>\n",
       "      <td>0.398419</td>\n",
       "      <td>0.014397</td>\n",
       "      <td>0.026302</td>\n",
       "      <td>0.001612</td>\n",
       "      <td>0.214286</td>\n",
       "      <td>0.0</td>\n",
       "    </tr>\n",
       "  </tbody>\n",
       "</table>\n",
       "</div>"
      ],
      "text/plain": [
       "       bathroomcnt  calculatedfinishedsquarefeet  latitude  longitude  \\\n",
       "36898     0.000000                      0.174269  0.554034   0.508691   \n",
       "35746     0.166667                      0.421637  0.500068   0.328335   \n",
       "35707     0.166667                      0.244298  0.904261   0.571006   \n",
       "20205     0.500000                      0.473830  0.723965   0.267130   \n",
       "34665     0.333333                      0.276462  0.917059   0.643943   \n",
       "\n",
       "            age   taxrate     acres  structure_dollar_per_sqft  \\\n",
       "36898  0.644928  0.206452  0.011623                   0.067903   \n",
       "35746  0.355072  0.230711  0.030375                   0.240860   \n",
       "35707  0.202899  0.297525  0.017466                   0.071208   \n",
       "20205  0.115942  0.250070  0.013138                   0.126042   \n",
       "34665  0.333333  0.398419  0.014397                   0.026302   \n",
       "\n",
       "       land_dollar_per_sqft  bed_bath_ratio  cola  \n",
       "36898              0.053373        0.571429   0.0  \n",
       "35746              0.057033        0.250000   1.0  \n",
       "35707              0.002917        0.250000   0.0  \n",
       "20205              0.016270        0.089286   0.0  \n",
       "34665              0.001612        0.214286   0.0  "
      ]
     },
     "execution_count": 41,
     "metadata": {},
     "output_type": "execute_result"
    }
   ],
   "source": [
    "X_train_scaled.head()"
   ]
  },
  {
   "cell_type": "code",
   "execution_count": 34,
   "metadata": {},
   "outputs": [
    {
     "data": {
      "text/plain": [
       "0    4398\n",
       "2    4201\n",
       "4    3210\n",
       "3    3083\n",
       "5    1922\n",
       "1    1404\n",
       "Name: area_cluster, dtype: int64"
      ]
     },
     "execution_count": 34,
     "metadata": {},
     "output_type": "execute_result"
    }
   ],
   "source": [
    "train_clusters.area_cluster.value_counts()"
   ]
  },
  {
   "cell_type": "markdown",
   "metadata": {},
   "source": [
    "Label clusters on validate and test, as we did above for train. "
   ]
  },
  {
   "cell_type": "code",
   "execution_count": null,
   "metadata": {},
   "outputs": [],
   "source": []
  },
  {
   "cell_type": "markdown",
   "metadata": {},
   "source": [
    "Get the centroids"
   ]
  },
  {
   "cell_type": "code",
   "execution_count": 38,
   "metadata": {},
   "outputs": [],
   "source": [
    "centroid_col_names = ['centroid_' + i for i in area_vars]\n",
    "centroid_col_names\n",
    "\n",
    "centroids = pd.DataFrame(kmeans.cluster_centers_, \n",
    "             columns=centroid_col_names).reset_index().rename(columns={'index': 'area_cluster'})"
   ]
  },
  {
   "cell_type": "code",
   "execution_count": 39,
   "metadata": {},
   "outputs": [
    {
     "data": {
      "text/html": [
       "<div>\n",
       "<style scoped>\n",
       "    .dataframe tbody tr th:only-of-type {\n",
       "        vertical-align: middle;\n",
       "    }\n",
       "\n",
       "    .dataframe tbody tr th {\n",
       "        vertical-align: top;\n",
       "    }\n",
       "\n",
       "    .dataframe thead th {\n",
       "        text-align: right;\n",
       "    }\n",
       "</style>\n",
       "<table border=\"1\" class=\"dataframe\">\n",
       "  <thead>\n",
       "    <tr style=\"text-align: right;\">\n",
       "      <th></th>\n",
       "      <th>area_cluster</th>\n",
       "      <th>centroid_latitude</th>\n",
       "      <th>centroid_longitude</th>\n",
       "      <th>centroid_age</th>\n",
       "    </tr>\n",
       "  </thead>\n",
       "  <tbody>\n",
       "    <tr>\n",
       "      <th>0</th>\n",
       "      <td>0</td>\n",
       "      <td>0.377153</td>\n",
       "      <td>0.555038</td>\n",
       "      <td>0.452510</td>\n",
       "    </tr>\n",
       "    <tr>\n",
       "      <th>1</th>\n",
       "      <td>1</td>\n",
       "      <td>0.593080</td>\n",
       "      <td>0.332725</td>\n",
       "      <td>0.187133</td>\n",
       "    </tr>\n",
       "    <tr>\n",
       "      <th>2</th>\n",
       "      <td>2</td>\n",
       "      <td>0.568983</td>\n",
       "      <td>0.351105</td>\n",
       "      <td>0.452820</td>\n",
       "    </tr>\n",
       "    <tr>\n",
       "      <th>3</th>\n",
       "      <td>3</td>\n",
       "      <td>0.478470</td>\n",
       "      <td>0.522572</td>\n",
       "      <td>0.659231</td>\n",
       "    </tr>\n",
       "    <tr>\n",
       "      <th>4</th>\n",
       "      <td>4</td>\n",
       "      <td>0.481067</td>\n",
       "      <td>0.794779</td>\n",
       "      <td>0.388720</td>\n",
       "    </tr>\n",
       "    <tr>\n",
       "      <th>5</th>\n",
       "      <td>5</td>\n",
       "      <td>0.871611</td>\n",
       "      <td>0.631447</td>\n",
       "      <td>0.219597</td>\n",
       "    </tr>\n",
       "  </tbody>\n",
       "</table>\n",
       "</div>"
      ],
      "text/plain": [
       "   area_cluster  centroid_latitude  centroid_longitude  centroid_age\n",
       "0             0           0.377153            0.555038      0.452510\n",
       "1             1           0.593080            0.332725      0.187133\n",
       "2             2           0.568983            0.351105      0.452820\n",
       "3             3           0.478470            0.522572      0.659231\n",
       "4             4           0.481067            0.794779      0.388720\n",
       "5             5           0.871611            0.631447      0.219597"
      ]
     },
     "execution_count": 39,
     "metadata": {},
     "output_type": "execute_result"
    }
   ],
   "source": [
    "centroids"
   ]
  },
  {
   "cell_type": "markdown",
   "metadata": {},
   "source": [
    "Append cluster id onto X_train & X_train_scaled, then join with the centroids dataframe. "
   ]
  },
  {
   "cell_type": "code",
   "execution_count": null,
   "metadata": {},
   "outputs": [],
   "source": [
    "# concatenate cluster id\n",
    "X_train = pd.concat([X_train, train_clusters], axis=1)\n",
    "\n",
    "# join on clusterid to get centroids\n",
    "X_train = X_train.merge(centroids, how='left', on='area_cluster').\\\n",
    "                set_index(X_train.index)"
   ]
  },
  {
   "cell_type": "code",
   "execution_count": null,
   "metadata": {},
   "outputs": [],
   "source": [
    "# concatenate cluster id\n",
    "X_train_scaled = pd.concat([X_train_scaled, train_clusters], \n",
    "                           axis=1)\n",
    "\n",
    "# join on clusterid to get centroids\n",
    "X_train_scaled = X_train_scaled.merge(centroids, how='left', on='area_cluster').\\\n",
    "                set_index(X_train.index)"
   ]
  },
  {
   "cell_type": "markdown",
   "metadata": {},
   "source": [
    "Repeat on validate and test"
   ]
  },
  {
   "cell_type": "code",
   "execution_count": null,
   "metadata": {},
   "outputs": [],
   "source": []
  },
  {
   "cell_type": "markdown",
   "metadata": {},
   "source": [
    "Now, I'd like to cluster by size. Then I will group by the two different cluster types (area/age & size) and compute summary statistics. "
   ]
  },
  {
   "cell_type": "code",
   "execution_count": 54,
   "metadata": {},
   "outputs": [
    {
     "name": "stdout",
     "output_type": "stream",
     "text": [
      "<class 'pandas.core.frame.DataFrame'>\n",
      "Int64Index: 18218 entries, 36898 to 33666\n",
      "Data columns (total 15 columns):\n",
      " #   Column                        Non-Null Count  Dtype  \n",
      "---  ------                        --------------  -----  \n",
      " 0   bathroomcnt                   18218 non-null  float64\n",
      " 1   calculatedfinishedsquarefeet  18218 non-null  float64\n",
      " 2   latitude                      18218 non-null  float64\n",
      " 3   longitude                     18218 non-null  float64\n",
      " 4   age                           18218 non-null  float64\n",
      " 5   taxrate                       18218 non-null  float64\n",
      " 6   acres                         18218 non-null  float64\n",
      " 7   structure_dollar_per_sqft     18218 non-null  float64\n",
      " 8   land_dollar_per_sqft          18218 non-null  float64\n",
      " 9   bed_bath_ratio                18218 non-null  float64\n",
      " 10  cola                          18218 non-null  int64  \n",
      " 11  area_cluster                  18218 non-null  int32  \n",
      " 12  centroid_latitude             18218 non-null  float64\n",
      " 13  centroid_longitude            18218 non-null  float64\n",
      " 14  centroid_age                  18218 non-null  float64\n",
      "dtypes: float64(13), int32(1), int64(1)\n",
      "memory usage: 2.2 MB\n"
     ]
    }
   ],
   "source": [
    "X_train.info()"
   ]
  },
  {
   "cell_type": "code",
   "execution_count": 55,
   "metadata": {},
   "outputs": [
    {
     "name": "stdout",
     "output_type": "stream",
     "text": [
      "     k         sse\n",
      "0    2  328.795756\n",
      "1    3  218.551474\n",
      "2    4  124.000578\n",
      "3    5   99.422333\n",
      "4    6   83.645101\n",
      "5    7   70.263228\n",
      "6    8   62.433945\n",
      "7    9   56.056598\n",
      "8   10   50.332309\n",
      "9   11   46.200056\n",
      "10  12   41.923265\n",
      "11  13   37.911244\n",
      "12  14   35.174747\n",
      "13  15   33.682779\n",
      "14  16   31.159080\n",
      "15  17   29.133784\n",
      "16  18   27.586471\n",
      "17  19   26.183135\n"
     ]
    },
    {
     "data": {
      "image/png": "[encoded data removed]",
      "text/plain": [
       "<Figure size 432x288 with 1 Axes>"
      ]
     },
     "metadata": {
      "needs_background": "light"
     },
     "output_type": "display_data"
    }
   ],
   "source": [
    "cluster_vars = ['calculatedfinishedsquarefeet', 'acres', 'bathroomcnt']\n",
    "elbow_plot(cluster_vars)"
   ]
  },
  {
   "cell_type": "markdown",
   "metadata": {},
   "source": [
    "Let's go with k = 4\n"
   ]
  },
  {
   "cell_type": "code",
   "execution_count": 59,
   "metadata": {},
   "outputs": [],
   "source": [
    "train_clusters, kmeans = run_kmeans(k=4, \n",
    "                                    cluster_vars = cluster_vars, \n",
    "                                    cluster_col_name = 'size_cluster')"
   ]
  },
  {
   "cell_type": "code",
   "execution_count": 60,
   "metadata": {},
   "outputs": [
    {
     "data": {
      "text/html": [
       "<div>\n",
       "<style scoped>\n",
       "    .dataframe tbody tr th:only-of-type {\n",
       "        vertical-align: middle;\n",
       "    }\n",
       "\n",
       "    .dataframe tbody tr th {\n",
       "        vertical-align: top;\n",
       "    }\n",
       "\n",
       "    .dataframe thead th {\n",
       "        text-align: right;\n",
       "    }\n",
       "</style>\n",
       "<table border=\"1\" class=\"dataframe\">\n",
       "  <thead>\n",
       "    <tr style=\"text-align: right;\">\n",
       "      <th></th>\n",
       "      <th>size_cluster</th>\n",
       "    </tr>\n",
       "  </thead>\n",
       "  <tbody>\n",
       "    <tr>\n",
       "      <th>36898</th>\n",
       "      <td>3</td>\n",
       "    </tr>\n",
       "    <tr>\n",
       "      <th>35746</th>\n",
       "      <td>2</td>\n",
       "    </tr>\n",
       "    <tr>\n",
       "      <th>35707</th>\n",
       "      <td>0</td>\n",
       "    </tr>\n",
       "    <tr>\n",
       "      <th>20205</th>\n",
       "      <td>1</td>\n",
       "    </tr>\n",
       "    <tr>\n",
       "      <th>34665</th>\n",
       "      <td>2</td>\n",
       "    </tr>\n",
       "  </tbody>\n",
       "</table>\n",
       "</div>"
      ],
      "text/plain": [
       "       size_cluster\n",
       "36898             3\n",
       "35746             2\n",
       "35707             0\n",
       "20205             1\n",
       "34665             2"
      ]
     },
     "execution_count": 60,
     "metadata": {},
     "output_type": "execute_result"
    }
   ],
   "source": [
    "train_clusters.head()"
   ]
  },
  {
   "cell_type": "markdown",
   "metadata": {},
   "source": [
    "## What do we do now? \n",
    "\n",
    "1. Explore our clusters\n",
    "\n",
    "2. Turn clusters into features\n",
    "\n",
    "3. Model each cluster separately\n",
    "\n",
    "4. Turn clusters into labels"
   ]
  },
  {
   "cell_type": "code",
   "execution_count": null,
   "metadata": {},
   "outputs": [],
   "source": []
  }
 ],
 "metadata": {
  "kernelspec": {
   "display_name": "Python 3",
   "language": "python",
   "name": "python3"
  },
  "language_info": {
   "codemirror_mode": {
    "name": "ipython",
    "version": 3
   },
   "file_extension": ".py",
   "mimetype": "text/x-python",
   "name": "python",
   "nbconvert_exporter": "python",
   "pygments_lexer": "ipython3",
   "version": "3.6.8"
  }
 },
 "nbformat": 4,
 "nbformat_minor": 2
}
