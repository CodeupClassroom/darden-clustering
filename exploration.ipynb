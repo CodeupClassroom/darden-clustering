{
 "cells": [
  {
   "cell_type": "markdown",
   "metadata": {},
   "source": [
    "> Exploratory Data Analysis refers to the critical process of performing initial investigations on data so as to discover patterns,to spot anomalies,to test hypothesis and to check assumptions with the help of summary statistics and graphical representations.\n",
    ">\n",
    "> -- [Prasad Patil, Novice Data Science Storyteller, Mar 23](https://towardsdatascience.com/exploratory-data-analysis-8fc1cb20fd15)\n",
    "\n",
    "**Goals of exploration**\n",
    "\n",
    "- Can we see patterns, find signals in the data? \n",
    "\n",
    "- What features are driving the outcome? \n",
    "\n",
    "- Are there other feature we can construct that have stronger relationships? \n",
    "\n",
    "- Use visualization and statistical testing to help answer these quesitons. \n",
    "\n",
    "- We want to walk away with the modeling strategies (feature selection, algorirthm selection, evaluation methods) & knowledge and understanding of what's going on in our data. \n",
    "\n",
    "**Agenda**\n",
    "\n",
    "- Wrangle (acquire, prep, summarize, split)\n",
    "\n",
    "- ID questions to answer, hypotheses to test\n",
    "\n",
    "- Answer those\n",
    "\n",
    "- draw conclusions\n",
    "\n",
    "**Sample Scenario**\n",
    "\n",
    "We would like to be able to use attributes of **mall customers** to estimate their spending score.\n",
    "In doing so, we can target those customers that are likely to be most profitable for us. \n",
    "Our target variable is spending_score. \n",
    "Currently the only customer data we have available to use in this project is age, annual_income and gender. \n",
    "It is possible we may not have enough information to build a valuable model. If not, maybe we could do some unsupervised learning, and find clusters of similar customers using all of the variables (including spending_score) and that could help us with a starting point for our targeted marketing. "
   ]
  },
  {
   "cell_type": "markdown",
   "metadata": {},
   "source": [
    "## Wrangle Data\n",
    "\n",
    "Mall Customer data stored in sql db. \n",
    "\n",
    "**Prepare the environment**"
   ]
  },
  {
   "cell_type": "code",
   "execution_count": 1,
   "metadata": {},
   "outputs": [],
   "source": [
    "# ignore warnings\n",
    "import warnings\n",
    "warnings.filterwarnings(\"ignore\")\n",
    "\n",
    "# Wrangling\n",
    "import pandas as pd\n",
    "import numpy as np\n",
    "from sklearn.model_selection import train_test_split\n",
    "\n",
    "# Statistical Tests\n",
    "import scipy.stats as stats\n",
    "\n",
    "# Visualizing\n",
    "import matplotlib.pyplot as plt\n",
    "from matplotlib import cm\n",
    "import seaborn as sns\n",
    "# from sklearn.model_selection import learning_curve\n",
    "\n",
    "pd.options.display.float_format = '{:20,.2f}'.format"
   ]
  },
  {
   "cell_type": "markdown",
   "metadata": {},
   "source": [
    "**Acquire**\n",
    "\n",
    "Acquire Mall Customer data from our SQL database using the acquire helper function we created. \n",
    "\n",
    "Acquire.py: \n",
    "\n",
    "```python\n",
    "import pandas as pd\n",
    "import env\n",
    "\n",
    "def get_connection(db, user=env.user, host=env.host, password=env.password):\n",
    "    return f'mysql+pymysql://{user}:{password}@{host}/{db}'\n",
    "\n",
    "def get_mallcustomer_data():\n",
    "    df = pd.read_sql('SELECT * FROM customers;', get_connection('mall_customers'))\n",
    "    return df.set_index('customer_id')\n",
    "```"
   ]
  },
  {
   "cell_type": "code",
   "execution_count": 2,
   "metadata": {},
   "outputs": [],
   "source": [
    "import acquire\n",
    "\n",
    "# read the data into df\n",
    "df = acquire.get_mallcustomer_data()"
   ]
  },
  {
   "cell_type": "code",
   "execution_count": 3,
   "metadata": {},
   "outputs": [
    {
     "data": {
      "text/html": [
       "<div>\n",
       "<style scoped>\n",
       "    .dataframe tbody tr th:only-of-type {\n",
       "        vertical-align: middle;\n",
       "    }\n",
       "\n",
       "    .dataframe tbody tr th {\n",
       "        vertical-align: top;\n",
       "    }\n",
       "\n",
       "    .dataframe thead th {\n",
       "        text-align: right;\n",
       "    }\n",
       "</style>\n",
       "<table border=\"1\" class=\"dataframe\">\n",
       "  <thead>\n",
       "    <tr style=\"text-align: right;\">\n",
       "      <th></th>\n",
       "      <th>gender</th>\n",
       "      <th>age</th>\n",
       "      <th>annual_income</th>\n",
       "      <th>spending_score</th>\n",
       "    </tr>\n",
       "    <tr>\n",
       "      <th>customer_id</th>\n",
       "      <th></th>\n",
       "      <th></th>\n",
       "      <th></th>\n",
       "      <th></th>\n",
       "    </tr>\n",
       "  </thead>\n",
       "  <tbody>\n",
       "    <tr>\n",
       "      <th>1</th>\n",
       "      <td>Male</td>\n",
       "      <td>19</td>\n",
       "      <td>15</td>\n",
       "      <td>39</td>\n",
       "    </tr>\n",
       "    <tr>\n",
       "      <th>2</th>\n",
       "      <td>Male</td>\n",
       "      <td>21</td>\n",
       "      <td>15</td>\n",
       "      <td>81</td>\n",
       "    </tr>\n",
       "    <tr>\n",
       "      <th>3</th>\n",
       "      <td>Female</td>\n",
       "      <td>20</td>\n",
       "      <td>16</td>\n",
       "      <td>6</td>\n",
       "    </tr>\n",
       "    <tr>\n",
       "      <th>4</th>\n",
       "      <td>Female</td>\n",
       "      <td>23</td>\n",
       "      <td>16</td>\n",
       "      <td>77</td>\n",
       "    </tr>\n",
       "    <tr>\n",
       "      <th>5</th>\n",
       "      <td>Female</td>\n",
       "      <td>31</td>\n",
       "      <td>17</td>\n",
       "      <td>40</td>\n",
       "    </tr>\n",
       "  </tbody>\n",
       "</table>\n",
       "</div>"
      ],
      "text/plain": [
       "             gender  age  annual_income  spending_score\n",
       "customer_id                                            \n",
       "1              Male   19             15              39\n",
       "2              Male   21             15              81\n",
       "3            Female   20             16               6\n",
       "4            Female   23             16              77\n",
       "5            Female   31             17              40"
      ]
     },
     "execution_count": 3,
     "metadata": {},
     "output_type": "execute_result"
    }
   ],
   "source": [
    "df.head()"
   ]
  },
  {
   "cell_type": "code",
   "execution_count": 5,
   "metadata": {},
   "outputs": [
    {
     "data": {
      "text/html": [
       "<div>\n",
       "<style scoped>\n",
       "    .dataframe tbody tr th:only-of-type {\n",
       "        vertical-align: middle;\n",
       "    }\n",
       "\n",
       "    .dataframe tbody tr th {\n",
       "        vertical-align: top;\n",
       "    }\n",
       "\n",
       "    .dataframe thead th {\n",
       "        text-align: right;\n",
       "    }\n",
       "</style>\n",
       "<table border=\"1\" class=\"dataframe\">\n",
       "  <thead>\n",
       "    <tr style=\"text-align: right;\">\n",
       "      <th></th>\n",
       "      <th>age</th>\n",
       "      <th>annual_income</th>\n",
       "      <th>spending_score</th>\n",
       "      <th>is_male</th>\n",
       "    </tr>\n",
       "    <tr>\n",
       "      <th>customer_id</th>\n",
       "      <th></th>\n",
       "      <th></th>\n",
       "      <th></th>\n",
       "      <th></th>\n",
       "    </tr>\n",
       "  </thead>\n",
       "  <tbody>\n",
       "    <tr>\n",
       "      <th>1</th>\n",
       "      <td>19</td>\n",
       "      <td>15</td>\n",
       "      <td>39</td>\n",
       "      <td>1</td>\n",
       "    </tr>\n",
       "    <tr>\n",
       "      <th>2</th>\n",
       "      <td>21</td>\n",
       "      <td>15</td>\n",
       "      <td>81</td>\n",
       "      <td>1</td>\n",
       "    </tr>\n",
       "    <tr>\n",
       "      <th>3</th>\n",
       "      <td>20</td>\n",
       "      <td>16</td>\n",
       "      <td>6</td>\n",
       "      <td>0</td>\n",
       "    </tr>\n",
       "    <tr>\n",
       "      <th>4</th>\n",
       "      <td>23</td>\n",
       "      <td>16</td>\n",
       "      <td>77</td>\n",
       "      <td>0</td>\n",
       "    </tr>\n",
       "    <tr>\n",
       "      <th>5</th>\n",
       "      <td>31</td>\n",
       "      <td>17</td>\n",
       "      <td>40</td>\n",
       "      <td>0</td>\n",
       "    </tr>\n",
       "  </tbody>\n",
       "</table>\n",
       "</div>"
      ],
      "text/plain": [
       "             age  annual_income  spending_score  is_male\n",
       "customer_id                                             \n",
       "1             19             15              39        1\n",
       "2             21             15              81        1\n",
       "3             20             16               6        0\n",
       "4             23             16              77        0\n",
       "5             31             17              40        0"
      ]
     },
     "execution_count": 5,
     "metadata": {},
     "output_type": "execute_result"
    }
   ],
   "source": [
    "# create dummy var with gender, drop the first dummy var. \n",
    "\n",
    "df['is_male'] = pd.get_dummies(df['gender'], drop_first=True)['Male']\n",
    "df.drop(columns=['gender'], inplace=True)\n",
    "df.head()"
   ]
  },
  {
   "cell_type": "markdown",
   "metadata": {},
   "source": [
    "**Summarize**\n",
    "\n",
    "Is the data ready to explore? "
   ]
  },
  {
   "cell_type": "code",
   "execution_count": 6,
   "metadata": {},
   "outputs": [
    {
     "name": "stdout",
     "output_type": "stream",
     "text": [
      "<class 'pandas.core.frame.DataFrame'>\n",
      "Int64Index: 200 entries, 1 to 200\n",
      "Data columns (total 4 columns):\n",
      " #   Column          Non-Null Count  Dtype\n",
      "---  ------          --------------  -----\n",
      " 0   age             200 non-null    int64\n",
      " 1   annual_income   200 non-null    int64\n",
      " 2   spending_score  200 non-null    int64\n",
      " 3   is_male         200 non-null    uint8\n",
      "dtypes: int64(3), uint8(1)\n",
      "memory usage: 6.4 KB\n"
     ]
    }
   ],
   "source": [
    "df.info()"
   ]
  },
  {
   "cell_type": "code",
   "execution_count": 7,
   "metadata": {},
   "outputs": [
    {
     "data": {
      "text/html": [
       "<div>\n",
       "<style scoped>\n",
       "    .dataframe tbody tr th:only-of-type {\n",
       "        vertical-align: middle;\n",
       "    }\n",
       "\n",
       "    .dataframe tbody tr th {\n",
       "        vertical-align: top;\n",
       "    }\n",
       "\n",
       "    .dataframe thead th {\n",
       "        text-align: right;\n",
       "    }\n",
       "</style>\n",
       "<table border=\"1\" class=\"dataframe\">\n",
       "  <thead>\n",
       "    <tr style=\"text-align: right;\">\n",
       "      <th></th>\n",
       "      <th>age</th>\n",
       "      <th>annual_income</th>\n",
       "      <th>spending_score</th>\n",
       "      <th>is_male</th>\n",
       "    </tr>\n",
       "  </thead>\n",
       "  <tbody>\n",
       "    <tr>\n",
       "      <th>count</th>\n",
       "      <td>200.00</td>\n",
       "      <td>200.00</td>\n",
       "      <td>200.00</td>\n",
       "      <td>200.00</td>\n",
       "    </tr>\n",
       "    <tr>\n",
       "      <th>mean</th>\n",
       "      <td>38.85</td>\n",
       "      <td>60.56</td>\n",
       "      <td>50.20</td>\n",
       "      <td>0.44</td>\n",
       "    </tr>\n",
       "    <tr>\n",
       "      <th>std</th>\n",
       "      <td>13.97</td>\n",
       "      <td>26.26</td>\n",
       "      <td>25.82</td>\n",
       "      <td>0.50</td>\n",
       "    </tr>\n",
       "    <tr>\n",
       "      <th>min</th>\n",
       "      <td>18.00</td>\n",
       "      <td>15.00</td>\n",
       "      <td>1.00</td>\n",
       "      <td>0.00</td>\n",
       "    </tr>\n",
       "    <tr>\n",
       "      <th>25%</th>\n",
       "      <td>28.75</td>\n",
       "      <td>41.50</td>\n",
       "      <td>34.75</td>\n",
       "      <td>0.00</td>\n",
       "    </tr>\n",
       "    <tr>\n",
       "      <th>50%</th>\n",
       "      <td>36.00</td>\n",
       "      <td>61.50</td>\n",
       "      <td>50.00</td>\n",
       "      <td>0.00</td>\n",
       "    </tr>\n",
       "    <tr>\n",
       "      <th>75%</th>\n",
       "      <td>49.00</td>\n",
       "      <td>78.00</td>\n",
       "      <td>73.00</td>\n",
       "      <td>1.00</td>\n",
       "    </tr>\n",
       "    <tr>\n",
       "      <th>max</th>\n",
       "      <td>70.00</td>\n",
       "      <td>137.00</td>\n",
       "      <td>99.00</td>\n",
       "      <td>1.00</td>\n",
       "    </tr>\n",
       "  </tbody>\n",
       "</table>\n",
       "</div>"
      ],
      "text/plain": [
       "                       age        annual_income       spending_score  \\\n",
       "count               200.00               200.00               200.00   \n",
       "mean                 38.85                60.56                50.20   \n",
       "std                  13.97                26.26                25.82   \n",
       "min                  18.00                15.00                 1.00   \n",
       "25%                  28.75                41.50                34.75   \n",
       "50%                  36.00                61.50                50.00   \n",
       "75%                  49.00                78.00                73.00   \n",
       "max                  70.00               137.00                99.00   \n",
       "\n",
       "                   is_male  \n",
       "count               200.00  \n",
       "mean                  0.44  \n",
       "std                   0.50  \n",
       "min                   0.00  \n",
       "25%                   0.00  \n",
       "50%                   0.00  \n",
       "75%                   1.00  \n",
       "max                   1.00  "
      ]
     },
     "execution_count": 7,
     "metadata": {},
     "output_type": "execute_result"
    }
   ],
   "source": [
    "df.describe()"
   ]
  },
  {
   "cell_type": "markdown",
   "metadata": {},
   "source": [
    "**train validate test split**"
   ]
  },
  {
   "cell_type": "code",
   "execution_count": 8,
   "metadata": {},
   "outputs": [],
   "source": [
    "# split off test, 20% of original df size\n",
    "\n",
    "train_validate, test = train_test_split(df, test_size=.20, random_state=42)\n",
    "\n",
    "# split off validate, 30% of train_validate (24% of original)\n",
    "train, validate = train_test_split(train_validate, test_size=.30, random_state=42)\n"
   ]
  },
  {
   "cell_type": "code",
   "execution_count": 9,
   "metadata": {},
   "outputs": [
    {
     "name": "stdout",
     "output_type": "stream",
     "text": [
      "train obs:  448\n",
      "validate obs:  192\n",
      "test obs:  160\n"
     ]
    }
   ],
   "source": [
    "print(\"train obs: \", train.size)\n",
    "print(\"validate obs: \", validate.size)\n",
    "print(\"test obs: \", test.size)"
   ]
  },
  {
   "cell_type": "markdown",
   "metadata": {},
   "source": [
    "*We are not going to explore the scaled data at this time, but it is important that the data is scaled before moving into clustering.*"
   ]
  },
  {
   "cell_type": "markdown",
   "metadata": {},
   "source": [
    "## Exploratory Analysis\n",
    "\n",
    "**Target Variable:** spending_score\n",
    "\n",
    "Questions to answer &/or hypotheses to test: \n",
    "\n",
    "1. What is the distribution of each of the variables? This is important as we move forward into testing and modeling. \n",
    "\n",
    "1. Does the spending score differ across gender? \n",
    "\n",
    "2. Is there a relationship between spending score and annual income? (Linear or otherwise). \n",
    "\n",
    "3. Is there a relationship between age and spending score? (Linear or otherwise). \n",
    "\n",
    "4. If we control for age (by decade), does spending score differ across annual income? \n",
    "\n",
    "5. If we control for annual income, does spending score differ across age decades? \n",
    "\n",
    "\n",
    "Tips to remember when visualizing for exploration (as opposed to visualizing for reporting or storytelling): \n",
    "\n",
    "- Charts are many and are quickly made.\n",
    "\n",
    "- Axis and labels are cleaned up later.\n",
    "\n",
    "- Color and size are used for information, not aesthetics.\n",
    "\n",
    "- Chart types include box plots, heatmaps, histograms, density plots, and feature or correlation plots.\n",
    "\n",
    "- Title are useful!"
   ]
  },
  {
   "cell_type": "markdown",
   "metadata": {},
   "source": [
    "**1.What is the distribution of each of the variables? This is important as we move forward into testing and modeling.**"
   ]
  },
  {
   "cell_type": "code",
   "execution_count": 10,
   "metadata": {},
   "outputs": [
    {
     "data": {
      "image/png": "[encoded data removed]",
      "text/plain": [
       "<Figure size 288x144 with 1 Axes>"
      ]
     },
     "metadata": {
      "needs_background": "light"
     },
     "output_type": "display_data"
    },
    {
     "data": {
      "image/png": "[encoded data removed]",
      "text/plain": [
       "<Figure size 288x144 with 1 Axes>"
      ]
     },
     "metadata": {
      "needs_background": "light"
     },
     "output_type": "display_data"
    },
    {
     "data": {
      "image/png": "[encoded data removed]",
      "text/plain": [
       "<Figure size 288x144 with 1 Axes>"
      ]
     },
     "metadata": {
      "needs_background": "light"
     },
     "output_type": "display_data"
    },
    {
     "data": {
      "image/png": "[encoded data removed]",
      "text/plain": [
       "<Figure size 288x144 with 1 Axes>"
      ]
     },
     "metadata": {
      "needs_background": "light"
     },
     "output_type": "display_data"
    }
   ],
   "source": [
    "for col in train.columns:\n",
    "    plt.figure(figsize=(4,2))\n",
    "    plt.hist(train[col])\n",
    "    plt.title(col)\n",
    "    plt.show()"
   ]
  },
  {
   "cell_type": "markdown",
   "metadata": {},
   "source": [
    "**Conclusion:**\n",
    "\n",
    "- spending_score is normally distributed\n",
    "\n",
    "- age and annual income are skewed right. I will want to use spearman's correlation test when testing for a linear relationship due to the skew. \n",
    "\n",
    "- The sample has slightly fewer males. \n",
    "\n",
    "- If I make bins, I might want to bin 90K for annual income and 50K for age. \n",
    "\n",
    "______________________\n",
    "\n"
   ]
  },
  {
   "cell_type": "markdown",
   "metadata": {},
   "source": [
    "**2. Does the spending score differ across gender?**\n",
    "\n",
    "1. plot gender vs spending score\n",
    "2. 2-sample, 2-tailed t-test comparing the mean spending_score male vs. not male. (i would need to test the assumption of equal variance) "
   ]
  },
  {
   "cell_type": "code",
   "execution_count": 13,
   "metadata": {},
   "outputs": [
    {
     "data": {
      "image/png": "[encoded data removed]",
      "text/plain": [
       "<Figure size 432x288 with 1 Axes>"
      ]
     },
     "metadata": {
      "needs_background": "light"
     },
     "output_type": "display_data"
    }
   ],
   "source": [
    "sns.boxplot(train.is_male, train.spending_score)\n",
    "plt.title(\"Is spending score different for is_male vs. not?\")\n",
    "plt.show()"
   ]
  },
  {
   "cell_type": "code",
   "execution_count": 14,
   "metadata": {},
   "outputs": [
    {
     "data": {
      "text/plain": [
       "LeveneResult(statistic=1.52123656007133, pvalue=0.22006154667448222)"
      ]
     },
     "execution_count": 14,
     "metadata": {},
     "output_type": "execute_result"
    }
   ],
   "source": [
    "# test the equal variance \n",
    "# H0 is that the variances are equal\n",
    "# Levene test\n",
    "\n",
    "not_male_gp = train[train.is_male==0]\n",
    "is_male_gp = train[train.is_male==1]\n",
    "\n",
    "stats.levene(not_male_gp.spending_score, is_male_gp.spending_score)"
   ]
  },
  {
   "cell_type": "code",
   "execution_count": 15,
   "metadata": {},
   "outputs": [
    {
     "data": {
      "text/plain": [
       "Ttest_indResult(statistic=0.7973640087804729, pvalue=0.4269574825618323)"
      ]
     },
     "execution_count": 15,
     "metadata": {},
     "output_type": "execute_result"
    }
   ],
   "source": [
    "stats.ttest_ind(not_male_gp.spending_score, is_male_gp.spending_score, \n",
    "                equal_var=True)"
   ]
  },
  {
   "cell_type": "markdown",
   "metadata": {},
   "source": [
    "**Conclusion:** No, spending scores do no differ across gender (without the interaction of another variable)\n",
    "\n",
    "____________________________\n",
    "\n",
    "**3. Is there a relationship between spending score and annual income? (Linear or otherwise).**\n",
    "\n",
    "1. plot annual_income by spending_score\n",
    "2. if there appears to be some linear correlation, then run spearman's test for linear correlation. We would run spearman's instead of pearson's because both variables are not normally distributed (annual_income, in this case). "
   ]
  },
  {
   "cell_type": "code",
   "execution_count": 16,
   "metadata": {},
   "outputs": [
    {
     "data": {
      "image/png": "[encoded data removed]",
      "text/plain": [
       "<Figure size 432x432 with 3 Axes>"
      ]
     },
     "metadata": {
      "needs_background": "light"
     },
     "output_type": "display_data"
    }
   ],
   "source": [
    "sns.jointplot(x=\"annual_income\", y=\"spending_score\", data=train)\n",
    "plt.xlabel(\"Annual Income\")\n",
    "plt.ylabel(\"Spending Score\")\n",
    "plt.title(\"Is there a relationship between Income and Spending Score?\")\n",
    "plt.show()"
   ]
  },
  {
   "cell_type": "markdown",
   "metadata": {},
   "source": [
    "**Conclusion:** There is not a linear relationship between annual income and spending score, but there does appear to be some sort of relationship, shaped like an x. There appear to be some clusters. It makes me think that we might be able to distinguish the lows vs highs with another variable, maybe age. \n",
    "\n",
    "___________________________________\n",
    "\n",
    "**4. Is there a relationship between age and spending score? (Linear or otherwise).**\n",
    "\n",
    "**Plan:**\n",
    "\n",
    "1. Plot age by spending_score. \n",
    "2. Linear Relationship? If there appears to be something, I can run a spearman's test to confirm. (Spearman because age is not normally distributed. If it was, I would use a pearson's test.)\n",
    "3. Create groups of ages and compare mean spending score using t-test and plotting. "
   ]
  },
  {
   "cell_type": "code",
   "execution_count": 17,
   "metadata": {},
   "outputs": [
    {
     "data": {
      "image/png": "[encoded data removed]",
      "text/plain": [
       "<Figure size 432x288 with 1 Axes>"
      ]
     },
     "metadata": {
      "needs_background": "light"
     },
     "output_type": "display_data"
    }
   ],
   "source": [
    "# plot age by spending score\n",
    "\n",
    "plt.scatter(train.age, train.spending_score)\n",
    "plt.xlabel(\"age\")\n",
    "plt.ylabel(\"spending score\")\n",
    "plt.title(\"Is there a relationship\\nbetween age & spending score?\")\n",
    "plt.show()"
   ]
  },
  {
   "cell_type": "markdown",
   "metadata": {},
   "source": [
    "It appears that after 40 or so, max spending score drops. (range is limited to < 60 +/-)\n",
    "If I bin the age \\[0, 40\\], (40, 80\\], will there be a significant difference in spending score? \n"
   ]
  },
  {
   "cell_type": "code",
   "execution_count": 19,
   "metadata": {},
   "outputs": [
    {
     "data": {
      "text/plain": [
       "<matplotlib.axes._subplots.AxesSubplot at 0x7f921e4bef98>"
      ]
     },
     "execution_count": 19,
     "metadata": {},
     "output_type": "execute_result"
    },
    {
     "data": {
      "image/png": "[encoded data removed]",
      "text/plain": [
       "<Figure size 432x288 with 1 Axes>"
      ]
     },
     "metadata": {
      "needs_background": "light"
     },
     "output_type": "display_data"
    }
   ],
   "source": [
    "# create age bins\n",
    "train['age_bin'] = pd.cut(train.age, [0, 41, 80])\n",
    "\n",
    "# box plot of the two groups & spending score\n",
    "sns.boxplot(train.age_bin, train.spending_score)"
   ]
  },
  {
   "cell_type": "markdown",
   "metadata": {},
   "source": [
    "There is definitely a difference between these two groups. \n",
    "I will run a two-sample, two-tailed t-test just to confirm the sample sizes aren't leading us to make false assumptions. It is clear the variances between the two groups is different, so I will set the 'equal_var' argument to false. "
   ]
  },
  {
   "cell_type": "code",
   "execution_count": 20,
   "metadata": {},
   "outputs": [
    {
     "data": {
      "text/html": [
       "<div>\n",
       "<style scoped>\n",
       "    .dataframe tbody tr th:only-of-type {\n",
       "        vertical-align: middle;\n",
       "    }\n",
       "\n",
       "    .dataframe tbody tr th {\n",
       "        vertical-align: top;\n",
       "    }\n",
       "\n",
       "    .dataframe thead th {\n",
       "        text-align: right;\n",
       "    }\n",
       "</style>\n",
       "<table border=\"1\" class=\"dataframe\">\n",
       "  <thead>\n",
       "    <tr style=\"text-align: right;\">\n",
       "      <th></th>\n",
       "      <th>age</th>\n",
       "      <th>annual_income</th>\n",
       "      <th>spending_score</th>\n",
       "      <th>is_male</th>\n",
       "      <th>age_bin</th>\n",
       "    </tr>\n",
       "    <tr>\n",
       "      <th>customer_id</th>\n",
       "      <th></th>\n",
       "      <th></th>\n",
       "      <th></th>\n",
       "      <th></th>\n",
       "      <th></th>\n",
       "    </tr>\n",
       "  </thead>\n",
       "  <tbody>\n",
       "    <tr>\n",
       "      <th>131</th>\n",
       "      <td>47</td>\n",
       "      <td>71</td>\n",
       "      <td>9</td>\n",
       "      <td>1</td>\n",
       "      <td>(41, 80]</td>\n",
       "    </tr>\n",
       "    <tr>\n",
       "      <th>63</th>\n",
       "      <td>67</td>\n",
       "      <td>47</td>\n",
       "      <td>52</td>\n",
       "      <td>0</td>\n",
       "      <td>(41, 80]</td>\n",
       "    </tr>\n",
       "    <tr>\n",
       "      <th>14</th>\n",
       "      <td>24</td>\n",
       "      <td>20</td>\n",
       "      <td>77</td>\n",
       "      <td>0</td>\n",
       "      <td>(0, 41]</td>\n",
       "    </tr>\n",
       "    <tr>\n",
       "      <th>174</th>\n",
       "      <td>36</td>\n",
       "      <td>87</td>\n",
       "      <td>92</td>\n",
       "      <td>1</td>\n",
       "      <td>(0, 41]</td>\n",
       "    </tr>\n",
       "    <tr>\n",
       "      <th>145</th>\n",
       "      <td>25</td>\n",
       "      <td>77</td>\n",
       "      <td>12</td>\n",
       "      <td>1</td>\n",
       "      <td>(0, 41]</td>\n",
       "    </tr>\n",
       "  </tbody>\n",
       "</table>\n",
       "</div>"
      ],
      "text/plain": [
       "             age  annual_income  spending_score  is_male   age_bin\n",
       "customer_id                                                       \n",
       "131           47             71               9        1  (41, 80]\n",
       "63            67             47              52        0  (41, 80]\n",
       "14            24             20              77        0   (0, 41]\n",
       "174           36             87              92        1   (0, 41]\n",
       "145           25             77              12        1   (0, 41]"
      ]
     },
     "execution_count": 20,
     "metadata": {},
     "output_type": "execute_result"
    }
   ],
   "source": [
    "train.head()"
   ]
  },
  {
   "cell_type": "code",
   "execution_count": 21,
   "metadata": {},
   "outputs": [
    {
     "data": {
      "text/plain": [
       "LeveneResult(statistic=12.770226083616274, pvalue=0.0005242222145990925)"
      ]
     },
     "execution_count": 21,
     "metadata": {},
     "output_type": "execute_result"
    }
   ],
   "source": [
    "# test the assumption of equal variance\n",
    "\n",
    "stats.levene(train[train.age <= 41].spending_score, \n",
    "             train[train.age > 41].spending_score\n",
    "            )"
   ]
  },
  {
   "cell_type": "code",
   "execution_count": 22,
   "metadata": {},
   "outputs": [
    {
     "data": {
      "text/plain": [
       "Ttest_indResult(statistic=4.66070280254923, pvalue=9.072580523237405e-06)"
      ]
     },
     "execution_count": 22,
     "metadata": {},
     "output_type": "execute_result"
    }
   ],
   "source": [
    "# variances are unequal\n",
    "# t-test\n",
    "\n",
    "stats.ttest_ind(train[train.age <= 41].spending_score, \n",
    "                train[train.age > 41].spending_score,\n",
    "                equal_var=False\n",
    "               )"
   ]
  },
  {
   "cell_type": "markdown",
   "metadata": {},
   "source": [
    "**Conclusion:**\n",
    "While there is not a linear relationship, there is a significant difference in spending score for ages <= 41 vs those > 41. \n",
    "______________________________\n",
    "\n",
    "**5. If we control for age, does spending score differ across annual income?**\n",
    "\n",
    "**Plan**\n",
    "\n",
    "1. Let's start by plotting annual income by spending score for each of the age bins created. \n",
    "\n",
    "2. Analyze each bin separately. For those <=41, is there a relationship between income and spending score? For those > 41, is there a relationship? \n",
    "\n",
    "3. If a test is necessary, run a test. \n",
    "\n",
    "*If we look at the plot that was shaped like an x (income vs spending) with only the customers <= 41, will the shape change?*"
   ]
  },
  {
   "cell_type": "code",
   "execution_count": 25,
   "metadata": {},
   "outputs": [
    {
     "data": {
      "text/plain": [
       "<matplotlib.axes._subplots.AxesSubplot at 0x7f921e75e8d0>"
      ]
     },
     "execution_count": 25,
     "metadata": {},
     "output_type": "execute_result"
    },
    {
     "data": {
      "image/png": "[encoded data removed]",
      "text/plain": [
       "<Figure size 432x288 with 1 Axes>"
      ]
     },
     "metadata": {
      "needs_background": "light"
     },
     "output_type": "display_data"
    }
   ],
   "source": [
    "sns.scatterplot(x='annual_income', y='spending_score', \n",
    "                data=train[train.age <= 41])"
   ]
  },
  {
   "cell_type": "markdown",
   "metadata": {},
   "source": [
    "Still maintains the x-shape, maybe a little more on the upper parts of the x. \n",
    "\n",
    "Let's look at those > 41. "
   ]
  },
  {
   "cell_type": "code",
   "execution_count": 26,
   "metadata": {},
   "outputs": [
    {
     "data": {
      "text/plain": [
       "<matplotlib.axes._subplots.AxesSubplot at 0x7f921e4be4a8>"
      ]
     },
     "execution_count": 26,
     "metadata": {},
     "output_type": "execute_result"
    },
    {
     "data": {
      "image/png": "[encoded data removed]",
      "text/plain": [
       "<Figure size 432x288 with 1 Axes>"
      ]
     },
     "metadata": {
      "needs_background": "light"
     },
     "output_type": "display_data"
    }
   ],
   "source": [
    "sns.scatterplot(x='annual_income', y='spending_score',\n",
    "               data=train[train.age > 41])"
   ]
  },
  {
   "cell_type": "markdown",
   "metadata": {},
   "source": [
    "For those > 41, the shape is a quadratic curve opening down. \n",
    "This makes me wonder if we split the 40's into 20's and 30's, will that account for the lower and upper extremes? "
   ]
  },
  {
   "cell_type": "code",
   "execution_count": 32,
   "metadata": {},
   "outputs": [
    {
     "data": {
      "image/png": "[encoded data removed]",
      "text/plain": [
       "<Figure size 432x288 with 1 Axes>"
      ]
     },
     "metadata": {
      "needs_background": "light"
     },
     "output_type": "display_data"
    }
   ],
   "source": [
    "sns.scatterplot(x='annual_income', y='spending_score',\n",
    "               data=train[train.age<=30], color='orange')\n",
    "sns.scatterplot(x='annual_income', y='spending_score',\n",
    "               data=train[(train.age>30) & (train.age<=41)], \n",
    "                color='purple')\n",
    "plt.title(\"Do the different decades (20s vs. 30s) account for the upper vs lower extremes?\")\n",
    "plt.show()"
   ]
  },
  {
   "cell_type": "markdown",
   "metadata": {},
   "source": [
    "The different decades do not seem to be driving theh difference. \n",
    "It could be gender, or it could be nothing that I currently have that explains that. \n",
    "\n",
    "**Conclusion:**\n",
    "\n",
    "- For those <= 41, annual income and spending score still maintain the shape of the x somewhat, but definitely tending more toward the upper corners. This does not clear up when separating between 20's and 30's.\n",
    "\n",
    "- For those > 41, they are all sitting on the lower half of the x, making a quadratic shape opening downward."
   ]
  },
  {
   "cell_type": "markdown",
   "metadata": {},
   "source": [
    "**5b. Does gender explain the extremes for the group <=41?**"
   ]
  },
  {
   "cell_type": "code",
   "execution_count": 34,
   "metadata": {},
   "outputs": [
    {
     "data": {
      "image/png": "[encoded data removed]",
      "text/plain": [
       "<Figure size 432x288 with 1 Axes>"
      ]
     },
     "metadata": {
      "needs_background": "light"
     },
     "output_type": "display_data"
    }
   ],
   "source": [
    "sns.scatterplot(x='annual_income', y='spending_score',\n",
    "               data=train[train.age <= 41], hue='is_male')\n",
    "\n",
    "plt.title(\"Does gender acccount for upper vs lower in the younger age group?\")\n",
    "plt.show()"
   ]
  },
  {
   "cell_type": "markdown",
   "metadata": {},
   "source": [
    "**Conclusion:** It's possible gender could be the difference here, but I'm not sure if there is enough evidence to conclude that. It appears that non-males under 40 have a quadratic curve that opens up and has a minimum at annual income between 40 and 60. It appears that males under 40 go both up and down on the extremities (still have the x-shape). "
   ]
  },
  {
   "cell_type": "markdown",
   "metadata": {},
   "source": [
    "**6. If we control for annual income, does spending score differ across age decades?**\n",
    "\n",
    "Because of the shape of annual income with spending score, I will create 3 bins of income: \\[0, 40), \\[40, 70), \\[70, 140\\]."
   ]
  },
  {
   "cell_type": "code",
   "execution_count": 35,
   "metadata": {},
   "outputs": [],
   "source": [
    "train['income_bin'] = pd.cut(train.annual_income, [0, 40, 70, 140])"
   ]
  },
  {
   "cell_type": "code",
   "execution_count": 36,
   "metadata": {},
   "outputs": [
    {
     "data": {
      "text/html": [
       "<div>\n",
       "<style scoped>\n",
       "    .dataframe tbody tr th:only-of-type {\n",
       "        vertical-align: middle;\n",
       "    }\n",
       "\n",
       "    .dataframe tbody tr th {\n",
       "        vertical-align: top;\n",
       "    }\n",
       "\n",
       "    .dataframe thead th {\n",
       "        text-align: right;\n",
       "    }\n",
       "</style>\n",
       "<table border=\"1\" class=\"dataframe\">\n",
       "  <thead>\n",
       "    <tr style=\"text-align: right;\">\n",
       "      <th></th>\n",
       "      <th>age</th>\n",
       "      <th>annual_income</th>\n",
       "      <th>spending_score</th>\n",
       "      <th>is_male</th>\n",
       "      <th>age_bin</th>\n",
       "      <th>income_bin</th>\n",
       "    </tr>\n",
       "    <tr>\n",
       "      <th>customer_id</th>\n",
       "      <th></th>\n",
       "      <th></th>\n",
       "      <th></th>\n",
       "      <th></th>\n",
       "      <th></th>\n",
       "      <th></th>\n",
       "    </tr>\n",
       "  </thead>\n",
       "  <tbody>\n",
       "    <tr>\n",
       "      <th>131</th>\n",
       "      <td>47</td>\n",
       "      <td>71</td>\n",
       "      <td>9</td>\n",
       "      <td>1</td>\n",
       "      <td>(41, 80]</td>\n",
       "      <td>(70, 140]</td>\n",
       "    </tr>\n",
       "    <tr>\n",
       "      <th>63</th>\n",
       "      <td>67</td>\n",
       "      <td>47</td>\n",
       "      <td>52</td>\n",
       "      <td>0</td>\n",
       "      <td>(41, 80]</td>\n",
       "      <td>(40, 70]</td>\n",
       "    </tr>\n",
       "    <tr>\n",
       "      <th>14</th>\n",
       "      <td>24</td>\n",
       "      <td>20</td>\n",
       "      <td>77</td>\n",
       "      <td>0</td>\n",
       "      <td>(0, 41]</td>\n",
       "      <td>(0, 40]</td>\n",
       "    </tr>\n",
       "    <tr>\n",
       "      <th>174</th>\n",
       "      <td>36</td>\n",
       "      <td>87</td>\n",
       "      <td>92</td>\n",
       "      <td>1</td>\n",
       "      <td>(0, 41]</td>\n",
       "      <td>(70, 140]</td>\n",
       "    </tr>\n",
       "    <tr>\n",
       "      <th>145</th>\n",
       "      <td>25</td>\n",
       "      <td>77</td>\n",
       "      <td>12</td>\n",
       "      <td>1</td>\n",
       "      <td>(0, 41]</td>\n",
       "      <td>(70, 140]</td>\n",
       "    </tr>\n",
       "  </tbody>\n",
       "</table>\n",
       "</div>"
      ],
      "text/plain": [
       "             age  annual_income  spending_score  is_male   age_bin income_bin\n",
       "customer_id                                                                  \n",
       "131           47             71               9        1  (41, 80]  (70, 140]\n",
       "63            67             47              52        0  (41, 80]   (40, 70]\n",
       "14            24             20              77        0   (0, 41]    (0, 40]\n",
       "174           36             87              92        1   (0, 41]  (70, 140]\n",
       "145           25             77              12        1   (0, 41]  (70, 140]"
      ]
     },
     "execution_count": 36,
     "metadata": {},
     "output_type": "execute_result"
    }
   ],
   "source": [
    "train.head()"
   ]
  },
  {
   "cell_type": "code",
   "execution_count": 37,
   "metadata": {},
   "outputs": [],
   "source": [
    "inc_low = train[train.annual_income<=40]\n",
    "inc_mid = train[(train.annual_income>40) & (train.annual_income<=70)]\n",
    "inc_high = train[train.annual_income>70]\n"
   ]
  },
  {
   "cell_type": "code",
   "execution_count": 38,
   "metadata": {},
   "outputs": [
    {
     "data": {
      "text/plain": [
       "<matplotlib.axes._subplots.AxesSubplot at 0x7f921e31c668>"
      ]
     },
     "execution_count": 38,
     "metadata": {},
     "output_type": "execute_result"
    },
    {
     "data": {
      "image/png": "[encoded data removed]",
      "text/plain": [
       "<Figure size 432x288 with 1 Axes>"
      ]
     },
     "metadata": {
      "needs_background": "light"
     },
     "output_type": "display_data"
    }
   ],
   "source": [
    "sns.scatterplot(x='age', y='spending_score',\n",
    "               data=train, hue='income_bin')"
   ]
  },
  {
   "cell_type": "code",
   "execution_count": null,
   "metadata": {},
   "outputs": [],
   "source": [
    "plt.scatter(train.age, train.spending_score)\n",
    "plt.xlabel(\"age\")\n",
    "plt.ylabel(\"spending score\")\n",
    "plt.title(\"Is there a relationship\\nbetween age & spending score?\")\n",
    "plt.show()"
   ]
  },
  {
   "cell_type": "markdown",
   "metadata": {},
   "source": [
    "**Conclusion:**\n",
    "\n",
    "There appears to be no difference in spending score for lower income vs. higher income...it appears that all the difference that exists is due to age. \n",
    "We could either just do two bins for income (mid vs. high/low) or we could 3 and see what happens. \n",
    "Using the binned age as a feature instead of continuous age, and using binned income instead of continuous income. "
   ]
  },
  {
   "cell_type": "markdown",
   "metadata": {},
   "source": [
    "**Features**\n",
    "\n",
    "- maybe try to build clusters with the annual_income\n",
    "- use the 2 age bins (0,41], (41,)\n",
    "- Use income bins \n",
    "- keep gender to see if it adds value. "
   ]
  },
  {
   "cell_type": "markdown",
   "metadata": {},
   "source": [
    "**Other plots**\n",
    "\n",
    "sns.pairplot()"
   ]
  },
  {
   "cell_type": "code",
   "execution_count": 40,
   "metadata": {},
   "outputs": [
    {
     "data": {
      "text/plain": [
       "<matplotlib.axes._subplots.AxesSubplot at 0x7f921ef8a8d0>"
      ]
     },
     "execution_count": 40,
     "metadata": {},
     "output_type": "execute_result"
    },
    {
     "data": {
      "image/png": "[encoded data removed]",
      "text/plain": [
       "<Figure size 432x288 with 1 Axes>"
      ]
     },
     "metadata": {
      "needs_background": "light"
     },
     "output_type": "display_data"
    }
   ],
   "source": [
    "train.groupby('is_male').mean().plot.bar()"
   ]
  },
  {
   "cell_type": "markdown",
   "metadata": {},
   "source": [
    "\n",
    "## Exercises\n",
    "\n",
    "**Tips Dataset**\n",
    "\n",
    "Create either a python script or a jupyter notebook named `explore_tips` that\n",
    "explores the tips data set that is built in to seaborn. Perform at least 1\n",
    "t-test and 1 chi square test.\n",
    "\n",
    "You can load the data set like this:\n",
    "\n",
    "```\n",
    "import seaborn as sns\n",
    "\n",
    "sns.load_dataset('tips')\n",
    "```\n",
    "\n",
    "**Zillow Dataset**\n",
    "\n",
    "Create a python script or jupyter notebook named `explore_zillow` and do the following:\n",
    "\n",
    "1. Ask at least 5 questions about the data, keeping in mind that your target variable is logerror. e.g. Is logerror significantly different for properties in LA County vs Orange County vs Ventura County? \n",
    "\n",
    "1. Answer those questions through a mix of statistical tests and visualizations. \n",
    "\n",
    "In your exploration, be sure you include the following:\n",
    "\n",
    "1. a plot with at least 3 dimensions, such as x, y, and color. \n",
    "\n",
    "1. at least 3 different **types** of plots (like box, scatter, bar, ...)\n",
    "\n",
    "1. at least 2 statistical tests. \n",
    "\n",
    "1. document takeaways/conclusions after each question is addressed.  \n",
    "\n",
    "Bonus:\n",
    "\n",
    "Compute the mean(logerror) by zipcode and the overall mean(logerror). Write a loop that will run a t-test between the overall mean and the mean for each zip code. We want to identify the zip codes where the error is significantly higher or lower than the expected error. \n"
   ]
  },
  {
   "cell_type": "code",
   "execution_count": null,
   "metadata": {},
   "outputs": [],
   "source": []
  }
 ],
 "metadata": {
  "kernelspec": {
   "display_name": "Python 3",
   "language": "python",
   "name": "python3"
  },
  "language_info": {
   "codemirror_mode": {
    "name": "ipython",
    "version": 3
   },
   "file_extension": ".py",
   "mimetype": "text/x-python",
   "name": "python",
   "nbconvert_exporter": "python",
   "pygments_lexer": "ipython3",
   "version": "3.6.8"
  }
 },
 "nbformat": 4,
 "nbformat_minor": 2
}
